{
 "cells": [
  {
   "cell_type": "code",
   "execution_count": null,
   "id": "c7fba2de",
   "metadata": {},
   "outputs": [],
   "source": [
    "#1st program"
   ]
  },
  {
   "cell_type": "code",
   "execution_count": 1,
   "id": "b863a2f8",
   "metadata": {},
   "outputs": [],
   "source": [
    "import selenium\n",
    "import pandas as pd\n",
    "from selenium import webdriver"
   ]
  },
  {
   "cell_type": "code",
   "execution_count": 4,
   "id": "9fdc7bed",
   "metadata": {},
   "outputs": [],
   "source": [
    "driver = webdriver.Chrome(r\"C:/Users/Vidhya/Downloads/chromedriver_win32/chromedriver.exe\")"
   ]
  },
  {
   "cell_type": "code",
   "execution_count": 3,
   "id": "4e0ab502",
   "metadata": {},
   "outputs": [],
   "source": [
    "import warnings\n",
    "warnings.simplefilter(\"ignore\")"
   ]
  },
  {
   "cell_type": "code",
   "execution_count": 5,
   "id": "832c8421",
   "metadata": {},
   "outputs": [],
   "source": [
    "driver.get('https://www.wikipedia.org/')"
   ]
  },
  {
   "cell_type": "code",
   "execution_count": 6,
   "id": "768e1149",
   "metadata": {},
   "outputs": [],
   "source": [
    "search_youtube=driver.find_element_by_id('searchInput')\n",
    "search_youtube.send_keys(\"Most viewed videos on Youtube\")"
   ]
  },
  {
   "cell_type": "code",
   "execution_count": 12,
   "id": "385e17a9",
   "metadata": {},
   "outputs": [],
   "source": [
    "search_btn=driver.find_element_by_xpath(\"//i[@class='sprite svg-search-icon']\")\n",
    "search_btn.click()"
   ]
  },
  {
   "cell_type": "code",
   "execution_count": 19,
   "id": "24a949da",
   "metadata": {},
   "outputs": [],
   "source": [
    "Rank_of_video=[]\n",
    "Name_of_video=[]\n",
    "Artist_of_video=[]\n",
    "Upload_date=[]\n",
    "Views_of_video=[]"
   ]
  },
  {
   "cell_type": "code",
   "execution_count": 20,
   "id": "dfae9b99",
   "metadata": {},
   "outputs": [
    {
     "data": {
      "text/plain": [
       "[<selenium.webdriver.remote.webelement.WebElement (session=\"4d81de39f904a383de5fe7fccb1379de\", element=\"8678ad83-fee7-48b4-8536-2a633996f9bf\")>]"
      ]
     },
     "execution_count": 20,
     "metadata": {},
     "output_type": "execute_result"
    }
   ],
   "source": [
    "Rank_tags=driver.find_elements_by_xpath(\"/html/body/div[3]/div[3]/div[5]/div[1]/table[3]/tbody/tr[1]/td[1]\")\n",
    "Rank_tags[0:30]"
   ]
  },
  {
   "cell_type": "code",
   "execution_count": 21,
   "id": "f8dd4c49",
   "metadata": {},
   "outputs": [
    {
     "data": {
      "text/plain": [
       "['1.']"
      ]
     },
     "execution_count": 21,
     "metadata": {},
     "output_type": "execute_result"
    }
   ],
   "source": [
    "for i in Rank_tags:\n",
    "    Rank=i.text\n",
    "    Rank_of_video.append(Ranks)\n",
    "Rank_of_video[0:30]"
   ]
  },
  {
   "cell_type": "code",
   "execution_count": 23,
   "id": "96890aa7",
   "metadata": {},
   "outputs": [
    {
     "data": {
      "text/plain": [
       "[<selenium.webdriver.remote.webelement.WebElement (session=\"4d81de39f904a383de5fe7fccb1379de\", element=\"63e95534-be85-4c40-9018-409cf795a339\")>]"
      ]
     },
     "execution_count": 23,
     "metadata": {},
     "output_type": "execute_result"
    }
   ],
   "source": [
    "Name_tags=driver.find_elements_by_xpath(\"/html/body/div[3]/div[3]/div[5]/div[1]/table[3]/thead/tr/th[2]\")\n",
    "Name_tags[0:30]"
   ]
  },
  {
   "cell_type": "code",
   "execution_count": 24,
   "id": "ea663c90",
   "metadata": {},
   "outputs": [
    {
     "data": {
      "text/plain": [
       "['Video name']"
      ]
     },
     "execution_count": 24,
     "metadata": {},
     "output_type": "execute_result"
    }
   ],
   "source": [
    "for i in Name_tags:\n",
    "    Names=i.text\n",
    "    Name_of_video.append(Names)\n",
    "Name_of_video[0:30]"
   ]
  },
  {
   "cell_type": "code",
   "execution_count": null,
   "id": "795d8b2b",
   "metadata": {},
   "outputs": [],
   "source": []
  }
 ],
 "metadata": {
  "kernelspec": {
   "display_name": "Python 3",
   "language": "python",
   "name": "python3"
  },
  "language_info": {
   "codemirror_mode": {
    "name": "ipython",
    "version": 3
   },
   "file_extension": ".py",
   "mimetype": "text/x-python",
   "name": "python",
   "nbconvert_exporter": "python",
   "pygments_lexer": "ipython3",
   "version": "3.8.8"
  }
 },
 "nbformat": 4,
 "nbformat_minor": 5
}
